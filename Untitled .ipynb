{
 "cells": [
  {
   "cell_type": "code",
   "execution_count": 1,
   "id": "45ab380c-4834-4d5f-af7b-d86c12a1d14e",
   "metadata": {},
   "outputs": [
    {
     "name": "stdout",
     "output_type": "stream",
     "text": [
      "Hello from Binder!\n"
     ]
    }
   ],
   "source": [
    "print(\"Hello from Binder!\")"
   ]
  },
  {
   "cell_type": "code",
   "execution_count": null,
   "id": "409932ff-0d84-42c6-a992-5fff6089351a",
   "metadata": {},
   "outputs": [],
   "source": []
  }
 ],
 "metadata": {
  "kernelspec": {
   "display_name": "Python 3 (ipykernel)",
   "language": "python",
   "name": "python3"
  },
  "language_info": {
   "codemirror_mode": {
    "name": "ipython",
    "version": 3
   },
   "file_extension": ".py",
   "mimetype": "text/x-python",
   "name": "python",
   "nbconvert_exporter": "python",
   "pygments_lexer": "ipython3",
   "version": "3.10.14"
  }
 },
 "nbformat": 4,
 "nbformat_minor": 5
}
